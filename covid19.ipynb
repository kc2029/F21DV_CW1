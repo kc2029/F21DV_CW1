{
 "cells": [
  {
   "cell_type": "code",
   "execution_count": 1,
   "metadata": {},
   "outputs": [],
   "source": [
    "import pandas as pd"
   ]
  },
  {
   "cell_type": "code",
   "execution_count": 3,
   "metadata": {},
   "outputs": [],
   "source": [
    "geo = pd.read_json(\"/Users/kevinc/Library/Mobile Documents/com~apple~CloudDocs/custom.geo.json\")\n"
   ]
  },
  {
   "cell_type": "code",
   "execution_count": 4,
   "metadata": {},
   "outputs": [
    {
     "name": "stdout",
     "output_type": "stream",
     "text": [
      "<class 'pandas.core.frame.DataFrame'>\n",
      "RangeIndex: 175 entries, 0 to 174\n",
      "Data columns (total 2 columns):\n",
      " #   Column    Non-Null Count  Dtype \n",
      "---  ------    --------------  ----- \n",
      " 0   type      175 non-null    object\n",
      " 1   features  175 non-null    object\n",
      "dtypes: object(2)\n",
      "memory usage: 2.9+ KB\n"
     ]
    }
   ],
   "source": [
    "geo.info()"
   ]
  },
  {
   "cell_type": "code",
   "execution_count": 5,
   "metadata": {},
   "outputs": [],
   "source": [
    "cv = pd.read_csv(\"/Users/kevinc/Downloads/owid-covid-data.csv\")\n"
   ]
  },
  {
   "cell_type": "code",
   "execution_count": 6,
   "metadata": {},
   "outputs": [
    {
     "name": "stdout",
     "output_type": "stream",
     "text": [
      "<class 'pandas.core.frame.DataFrame'>\n",
      "RangeIndex: 257737 entries, 0 to 257736\n",
      "Data columns (total 67 columns):\n",
      " #   Column                                      Non-Null Count   Dtype  \n",
      "---  ------                                      --------------   -----  \n",
      " 0   iso_code                                    257737 non-null  object \n",
      " 1   continent                                   243270 non-null  object \n",
      " 2   location                                    257737 non-null  object \n",
      " 3   date                                        257737 non-null  object \n",
      " 4   total_cases                                 243255 non-null  float64\n",
      " 5   new_cases                                   242977 non-null  float64\n",
      " 6   new_cases_smoothed                          241773 non-null  float64\n",
      " 7   total_deaths                                223598 non-null  float64\n",
      " 8   new_deaths                                  223497 non-null  float64\n",
      " 9   new_deaths_smoothed                         222311 non-null  float64\n",
      " 10  total_cases_per_million                     242150 non-null  float64\n",
      " 11  new_cases_per_million                       241872 non-null  float64\n",
      " 12  new_cases_smoothed_per_million              240673 non-null  float64\n",
      " 13  total_deaths_per_million                    222506 non-null  float64\n",
      " 14  new_deaths_per_million                      222405 non-null  float64\n",
      " 15  new_deaths_smoothed_per_million             221224 non-null  float64\n",
      " 16  reproduction_rate                           184817 non-null  float64\n",
      " 17  icu_patients                                34428 non-null   float64\n",
      " 18  icu_patients_per_million                    34428 non-null   float64\n",
      " 19  hosp_patients                               37465 non-null   float64\n",
      " 20  hosp_patients_per_million                   37465 non-null   float64\n",
      " 21  weekly_icu_admissions                       8624 non-null    float64\n",
      " 22  weekly_icu_admissions_per_million           8624 non-null    float64\n",
      " 23  weekly_hosp_admissions                      20461 non-null   float64\n",
      " 24  weekly_hosp_admissions_per_million          20461 non-null   float64\n",
      " 25  total_tests                                 79387 non-null   float64\n",
      " 26  new_tests                                   75403 non-null   float64\n",
      " 27  total_tests_per_thousand                    79387 non-null   float64\n",
      " 28  new_tests_per_thousand                      75403 non-null   float64\n",
      " 29  new_tests_smoothed                          103965 non-null  float64\n",
      " 30  new_tests_smoothed_per_thousand             103965 non-null  float64\n",
      " 31  positive_rate                               95927 non-null   float64\n",
      " 32  tests_per_case                              94348 non-null   float64\n",
      " 33  tests_units                                 106788 non-null  object \n",
      " 34  total_vaccinations                          72201 non-null   float64\n",
      " 35  people_vaccinated                           69102 non-null   float64\n",
      " 36  people_fully_vaccinated                     66446 non-null   float64\n",
      " 37  total_boosters                              40992 non-null   float64\n",
      " 38  new_vaccinations                            59898 non-null   float64\n",
      " 39  new_vaccinations_smoothed                   154460 non-null  float64\n",
      " 40  total_vaccinations_per_hundred              72201 non-null   float64\n",
      " 41  people_vaccinated_per_hundred               69102 non-null   float64\n",
      " 42  people_fully_vaccinated_per_hundred         66446 non-null   float64\n",
      " 43  total_boosters_per_hundred                  40992 non-null   float64\n",
      " 44  new_vaccinations_smoothed_per_million       154460 non-null  float64\n",
      " 45  new_people_vaccinated_smoothed              154359 non-null  float64\n",
      " 46  new_people_vaccinated_smoothed_per_hundred  154359 non-null  float64\n",
      " 47  stringency_index                            185194 non-null  float64\n",
      " 48  population_density                          224654 non-null  float64\n",
      " 49  median_age                                  207692 non-null  float64\n",
      " 50  aged_65_older                               205503 non-null  float64\n",
      " 51  aged_70_older                               206606 non-null  float64\n",
      " 52  gdp_per_capita                              207455 non-null  float64\n",
      " 53  extreme_poverty                             135046 non-null  float64\n",
      " 54  cardiovasc_death_rate                       207075 non-null  float64\n",
      " 55  diabetes_prevalence                         217980 non-null  float64\n",
      " 56  female_smokers                              157079 non-null  float64\n",
      " 57  male_smokers                                154930 non-null  float64\n",
      " 58  handwashing_facilities                      102165 non-null  float64\n",
      " 59  hospital_beds_per_thousand                  184664 non-null  float64\n",
      " 60  life_expectancy                             236559 non-null  float64\n",
      " 61  human_development_index                     202446 non-null  float64\n",
      " 62  population                                  256632 non-null  float64\n",
      " 63  excess_mortality_cumulative_absolute        8531 non-null    float64\n",
      " 64  excess_mortality_cumulative                 8531 non-null    float64\n",
      " 65  excess_mortality                            8531 non-null    float64\n",
      " 66  excess_mortality_cumulative_per_million     8531 non-null    float64\n",
      "dtypes: float64(62), object(5)\n",
      "memory usage: 131.7+ MB\n"
     ]
    }
   ],
   "source": [
    "cv.info()"
   ]
  }
 ],
 "metadata": {
  "kernelspec": {
   "display_name": "base",
   "language": "python",
   "name": "python3"
  },
  "language_info": {
   "codemirror_mode": {
    "name": "ipython",
    "version": 3
   },
   "file_extension": ".py",
   "mimetype": "text/x-python",
   "name": "python",
   "nbconvert_exporter": "python",
   "pygments_lexer": "ipython3",
   "version": "3.9.12"
  },
  "orig_nbformat": 4,
  "vscode": {
   "interpreter": {
    "hash": "9692aa06d809dc27872443562869b4dd1e6a158ca861856e2a15b8fcc04a0498"
   }
  }
 },
 "nbformat": 4,
 "nbformat_minor": 2
}
